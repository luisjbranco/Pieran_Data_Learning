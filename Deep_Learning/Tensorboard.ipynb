{
 "cells": [
  {
   "cell_type": "markdown",
   "metadata": {},
   "source": [
    "<a href=\"https://www.pieriandata.com\"><img src=\"../Pierian_Data_Logo.PNG\"></a>\n",
    "<strong><center>Copyright by Pierian Data Inc.</center></strong> \n",
    "<strong><center>Created by Jose Marcial Portilla.</center></strong>"
   ]
  },
  {
   "cell_type": "markdown",
   "metadata": {},
   "source": [
    "# Tensorboard\n",
    "\n",
    "---\n",
    "---\n",
    "\n",
    "**NOTE: You must watch the corresponding video to understand this lecture. This notebook can't serve as a full guide. Please watch the video BEFORE posting questions to the QA forum.**\n",
    "\n",
    "---\n",
    "---\n",
    "\n",
    "Let's explore the built in data visualization capabilities that come with Tensorboard.\n",
    "\n",
    "Full official tutorial available here: https://www.tensorflow.org/tensorboard/get_started\n",
    "\n",
    "## Data"
   ]
  },
  {
   "cell_type": "code",
   "execution_count": 1,
   "metadata": {},
   "outputs": [],
   "source": [
    "import pandas as pd\n",
    "import numpy as np"
   ]
  },
  {
   "cell_type": "code",
   "execution_count": 2,
   "metadata": {},
   "outputs": [],
   "source": [
    "df = pd.read_csv('data/cancer_classification.csv')"
   ]
  },
  {
   "cell_type": "markdown",
   "metadata": {},
   "source": [
    "### Train Test Split"
   ]
  },
  {
   "cell_type": "code",
   "execution_count": 3,
   "metadata": {},
   "outputs": [],
   "source": [
    "X = df.drop('benign_0__mal_1',axis=1).values\n",
    "y = df['benign_0__mal_1'].values"
   ]
  },
  {
   "cell_type": "code",
   "execution_count": 4,
   "metadata": {},
   "outputs": [],
   "source": [
    "from sklearn.model_selection import train_test_split"
   ]
  },
  {
   "cell_type": "code",
   "execution_count": 5,
   "metadata": {},
   "outputs": [],
   "source": [
    "X_train, X_test, y_train, y_test = train_test_split(X,y,test_size=0.25,random_state=101)"
   ]
  },
  {
   "cell_type": "markdown",
   "metadata": {},
   "source": [
    "\n",
    "### Scaling Data"
   ]
  },
  {
   "cell_type": "code",
   "execution_count": 6,
   "metadata": {},
   "outputs": [],
   "source": [
    "from sklearn.preprocessing import MinMaxScaler"
   ]
  },
  {
   "cell_type": "code",
   "execution_count": 7,
   "metadata": {},
   "outputs": [],
   "source": [
    "scaler = MinMaxScaler()"
   ]
  },
  {
   "cell_type": "code",
   "execution_count": 8,
   "metadata": {},
   "outputs": [
    {
     "data": {
      "text/plain": [
       "MinMaxScaler(copy=True, feature_range=(0, 1))"
      ]
     },
     "execution_count": 8,
     "metadata": {},
     "output_type": "execute_result"
    }
   ],
   "source": [
    "scaler.fit(X_train)"
   ]
  },
  {
   "cell_type": "code",
   "execution_count": 9,
   "metadata": {},
   "outputs": [],
   "source": [
    "X_train = scaler.transform(X_train)\n",
    "X_test = scaler.transform(X_test)"
   ]
  },
  {
   "cell_type": "markdown",
   "metadata": {},
   "source": [
    "## Creating the Model"
   ]
  },
  {
   "cell_type": "code",
   "execution_count": 10,
   "metadata": {},
   "outputs": [],
   "source": [
    "import tensorflow as tf\n",
    "from tensorflow.keras.models import Sequential\n",
    "from tensorflow.keras.layers import Dense, Activation,Dropout"
   ]
  },
  {
   "cell_type": "code",
   "execution_count": 11,
   "metadata": {},
   "outputs": [],
   "source": [
    "from tensorflow.keras.callbacks import EarlyStopping,TensorBoard"
   ]
  },
  {
   "cell_type": "code",
   "execution_count": 12,
   "metadata": {},
   "outputs": [],
   "source": [
    "early_stop = EarlyStopping(monitor='val_loss', mode='min', verbose=1, patience=25)"
   ]
  },
  {
   "cell_type": "code",
   "execution_count": 13,
   "metadata": {},
   "outputs": [
    {
     "data": {
      "text/plain": [
       "'C:\\\\Users\\\\Luis\\\\Desktop\\\\Study\\\\Pieran_Data\\\\Pieran_Data_Learning\\\\Deep_Learning'"
      ]
     },
     "execution_count": 13,
     "metadata": {},
     "output_type": "execute_result"
    }
   ],
   "source": [
    "pwd"
   ]
  },
  {
   "cell_type": "markdown",
   "metadata": {},
   "source": [
    "## Creating the Tensorboard Callback\n",
    "\n",
    "TensorBoard is a visualization tool provided with TensorFlow.\n",
    "\n",
    "This callback logs events for TensorBoard, including:\n",
    "* Metrics summary plots\n",
    "* Training graph visualization\n",
    "* Activation histograms\n",
    "* Sampled profiling\n",
    "\n",
    "If you have installed TensorFlow with pip, you should be able\n",
    "to launch TensorBoard from the command line:\n",
    "\n",
    "```sh\n",
    "tensorboard --logdir=path_to_your_logs\n",
    "```\n",
    "\n",
    "You can find more information about TensorBoard\n",
    "[here](https://www.tensorflow.org/tensorboard/).\n",
    "\n",
    "    Arguments:\n",
    "        log_dir: the path of the directory where to save the log files to be\n",
    "          parsed by TensorBoard.\n",
    "        histogram_freq: frequency (in epochs) at which to compute activation and\n",
    "          weight histograms for the layers of the model. If set to 0, histograms\n",
    "          won't be computed. Validation data (or split) must be specified for\n",
    "          histogram visualizations.\n",
    "        write_graph: whether to visualize the graph in TensorBoard. The log file\n",
    "          can become quite large when write_graph is set to True.\n",
    "        write_images: whether to write model weights to visualize as image in\n",
    "          TensorBoard.\n",
    "        update_freq: `'batch'` or `'epoch'` or integer. When using `'batch'`,\n",
    "          writes the losses and metrics to TensorBoard after each batch. The same\n",
    "          applies for `'epoch'`. If using an integer, let's say `1000`, the\n",
    "          callback will write the metrics and losses to TensorBoard every 1000\n",
    "          samples. Note that writing too frequently to TensorBoard can slow down\n",
    "          your training.\n",
    "        profile_batch: Profile the batch to sample compute characteristics. By\n",
    "          default, it will profile the second batch. Set profile_batch=0 to\n",
    "          disable profiling. Must run in TensorFlow eager mode.\n",
    "        embeddings_freq: frequency (in epochs) at which embedding layers will\n",
    "          be visualized. If set to 0, embeddings won't be visualized.\n",
    "       "
   ]
  },
  {
   "cell_type": "code",
   "execution_count": 14,
   "metadata": {},
   "outputs": [],
   "source": [
    "from datetime import datetime"
   ]
  },
  {
   "cell_type": "code",
   "execution_count": 15,
   "metadata": {},
   "outputs": [
    {
     "data": {
      "text/plain": [
       "'2022-04-26--1543'"
      ]
     },
     "execution_count": 15,
     "metadata": {},
     "output_type": "execute_result"
    }
   ],
   "source": [
    "datetime.now().strftime(\"%Y-%m-%d--%H%M\")"
   ]
  },
  {
   "cell_type": "code",
   "execution_count": 16,
   "metadata": {},
   "outputs": [],
   "source": [
    "# WINDOWS: Use \"logs\\\\fit\"\n",
    "# MACOS/LINUX: Use \"logs\\fit\"\n",
    "\n",
    "log_directory = 'logs\\\\fit'\n",
    "\n",
    "# OPTIONAL: ADD A TIMESTAMP FOR UNIQUE FOLDER\n",
    "# timestamp = datetime.now().strftime(\"%Y-%m-%d--%H%M\")\n",
    "# log_directory = log_directory + '\\\\' + timestamp\n",
    "\n",
    "\n",
    "board = TensorBoard(log_dir=log_directory,histogram_freq=1,\n",
    "    write_graph=True,\n",
    "    write_images=True,\n",
    "    update_freq='epoch',\n",
    "    profile_batch=2,\n",
    "    embeddings_freq=1)"
   ]
  },
  {
   "cell_type": "markdown",
   "metadata": {},
   "source": [
    "Now create the model layers:"
   ]
  },
  {
   "cell_type": "code",
   "execution_count": 17,
   "metadata": {},
   "outputs": [],
   "source": [
    "model = Sequential()\n",
    "model.add(Dense(units=30,activation='relu'))\n",
    "model.add(Dropout(0.5))\n",
    "model.add(Dense(units=15,activation='relu'))\n",
    "model.add(Dropout(0.5))\n",
    "model.add(Dense(units=1,activation='sigmoid'))\n",
    "model.compile(loss='binary_crossentropy', optimizer='adam')"
   ]
  },
  {
   "cell_type": "markdown",
   "metadata": {},
   "source": [
    "## Train the Model"
   ]
  },
  {
   "cell_type": "code",
   "execution_count": 18,
   "metadata": {},
   "outputs": [
    {
     "name": "stdout",
     "output_type": "stream",
     "text": [
      "Train on 426 samples, validate on 143 samples\n",
      "Epoch 1/600\n",
      "426/426 [==============================] - 1s 1ms/sample - loss: 0.7339 - val_loss: 0.6710\n",
      "Epoch 2/600\n",
      "426/426 [==============================] - 0s 100us/sample - loss: 0.6867 - val_loss: 0.6500\n",
      "Epoch 3/600\n",
      "426/426 [==============================] - 0s 101us/sample - loss: 0.6538 - val_loss: 0.6329\n",
      "Epoch 4/600\n",
      "426/426 [==============================] - 0s 103us/sample - loss: 0.6536 - val_loss: 0.6178\n",
      "Epoch 5/600\n",
      "426/426 [==============================] - 0s 108us/sample - loss: 0.6536 - val_loss: 0.6034\n",
      "Epoch 6/600\n",
      "426/426 [==============================] - 0s 106us/sample - loss: 0.6350 - val_loss: 0.5852\n",
      "Epoch 7/600\n",
      "426/426 [==============================] - 0s 103us/sample - loss: 0.5994 - val_loss: 0.5656\n",
      "Epoch 8/600\n",
      "426/426 [==============================] - 0s 103us/sample - loss: 0.5772 - val_loss: 0.5417\n",
      "Epoch 9/600\n",
      "426/426 [==============================] - 0s 110us/sample - loss: 0.5632 - val_loss: 0.5134\n",
      "Epoch 10/600\n",
      "426/426 [==============================] - 0s 113us/sample - loss: 0.5450 - val_loss: 0.4855\n",
      "Epoch 11/600\n",
      "426/426 [==============================] - 0s 108us/sample - loss: 0.5208 - val_loss: 0.4575\n",
      "Epoch 12/600\n",
      "426/426 [==============================] - 0s 108us/sample - loss: 0.4880 - val_loss: 0.4335\n",
      "Epoch 13/600\n",
      "426/426 [==============================] - 0s 110us/sample - loss: 0.4723 - val_loss: 0.4101\n",
      "Epoch 14/600\n",
      "426/426 [==============================] - 0s 108us/sample - loss: 0.4631 - val_loss: 0.3871\n",
      "Epoch 15/600\n",
      "426/426 [==============================] - 0s 143us/sample - loss: 0.4706 - val_loss: 0.3697\n",
      "Epoch 16/600\n",
      "426/426 [==============================] - 0s 169us/sample - loss: 0.4364 - val_loss: 0.3504\n",
      "Epoch 17/600\n",
      "426/426 [==============================] - 0s 131us/sample - loss: 0.4356 - val_loss: 0.3385\n",
      "Epoch 18/600\n",
      "426/426 [==============================] - 0s 120us/sample - loss: 0.4178 - val_loss: 0.3242\n",
      "Epoch 19/600\n",
      "426/426 [==============================] - 0s 99us/sample - loss: 0.3981 - val_loss: 0.3090\n",
      "Epoch 20/600\n",
      "426/426 [==============================] - 0s 106us/sample - loss: 0.3660 - val_loss: 0.2851\n",
      "Epoch 21/600\n",
      "426/426 [==============================] - 0s 103us/sample - loss: 0.3722 - val_loss: 0.2732\n",
      "Epoch 22/600\n",
      "426/426 [==============================] - 0s 106us/sample - loss: 0.3583 - val_loss: 0.2550\n",
      "Epoch 23/600\n",
      "426/426 [==============================] - 0s 103us/sample - loss: 0.3173 - val_loss: 0.2409\n",
      "Epoch 24/600\n",
      "426/426 [==============================] - 0s 103us/sample - loss: 0.3336 - val_loss: 0.2343\n",
      "Epoch 25/600\n",
      "426/426 [==============================] - 0s 110us/sample - loss: 0.3305 - val_loss: 0.2263\n",
      "Epoch 26/600\n",
      "426/426 [==============================] - 0s 108us/sample - loss: 0.2963 - val_loss: 0.2189\n",
      "Epoch 27/600\n",
      "426/426 [==============================] - 0s 106us/sample - loss: 0.3164 - val_loss: 0.2156\n",
      "Epoch 28/600\n",
      "426/426 [==============================] - 0s 99us/sample - loss: 0.3295 - val_loss: 0.2137\n",
      "Epoch 29/600\n",
      "426/426 [==============================] - 0s 167us/sample - loss: 0.3291 - val_loss: 0.2018\n",
      "Epoch 30/600\n",
      "426/426 [==============================] - 0s 120us/sample - loss: 0.2897 - val_loss: 0.1981\n",
      "Epoch 31/600\n",
      "426/426 [==============================] - 0s 117us/sample - loss: 0.2667 - val_loss: 0.1893\n",
      "Epoch 32/600\n",
      "426/426 [==============================] - 0s 117us/sample - loss: 0.2849 - val_loss: 0.1780\n",
      "Epoch 33/600\n",
      "426/426 [==============================] - 0s 117us/sample - loss: 0.2678 - val_loss: 0.1798\n",
      "Epoch 34/600\n",
      "426/426 [==============================] - 0s 113us/sample - loss: 0.2781 - val_loss: 0.1690\n",
      "Epoch 35/600\n",
      "426/426 [==============================] - 0s 108us/sample - loss: 0.2567 - val_loss: 0.1635\n",
      "Epoch 36/600\n",
      "426/426 [==============================] - 0s 113us/sample - loss: 0.2670 - val_loss: 0.1630\n",
      "Epoch 37/600\n",
      "426/426 [==============================] - 0s 117us/sample - loss: 0.2494 - val_loss: 0.1538\n",
      "Epoch 38/600\n",
      "426/426 [==============================] - 0s 110us/sample - loss: 0.2541 - val_loss: 0.1525\n",
      "Epoch 39/600\n",
      "426/426 [==============================] - 0s 103us/sample - loss: 0.2345 - val_loss: 0.1457\n",
      "Epoch 40/600\n",
      "426/426 [==============================] - 0s 101us/sample - loss: 0.2531 - val_loss: 0.1477\n",
      "Epoch 41/600\n",
      "426/426 [==============================] - 0s 113us/sample - loss: 0.2565 - val_loss: 0.1558\n",
      "Epoch 42/600\n",
      "426/426 [==============================] - 0s 120us/sample - loss: 0.2452 - val_loss: 0.1426\n",
      "Epoch 43/600\n",
      "426/426 [==============================] - 0s 124us/sample - loss: 0.2562 - val_loss: 0.1511\n",
      "Epoch 44/600\n",
      "426/426 [==============================] - 0s 117us/sample - loss: 0.2104 - val_loss: 0.1387\n",
      "Epoch 45/600\n",
      "426/426 [==============================] - 0s 108us/sample - loss: 0.2014 - val_loss: 0.1317\n",
      "Epoch 46/600\n",
      "426/426 [==============================] - 0s 120us/sample - loss: 0.2073 - val_loss: 0.1268\n",
      "Epoch 47/600\n",
      "426/426 [==============================] - 0s 113us/sample - loss: 0.2181 - val_loss: 0.1278\n",
      "Epoch 48/600\n",
      "426/426 [==============================] - 0s 110us/sample - loss: 0.2048 - val_loss: 0.1268\n",
      "Epoch 49/600\n",
      "426/426 [==============================] - 0s 106us/sample - loss: 0.2008 - val_loss: 0.1200\n",
      "Epoch 50/600\n",
      "426/426 [==============================] - 0s 110us/sample - loss: 0.1949 - val_loss: 0.1189\n",
      "Epoch 51/600\n",
      "426/426 [==============================] - 0s 108us/sample - loss: 0.2244 - val_loss: 0.1175\n",
      "Epoch 52/600\n",
      "426/426 [==============================] - 0s 127us/sample - loss: 0.1854 - val_loss: 0.1239\n",
      "Epoch 53/600\n",
      "426/426 [==============================] - 0s 110us/sample - loss: 0.2035 - val_loss: 0.1212\n",
      "Epoch 54/600\n",
      "426/426 [==============================] - 0s 103us/sample - loss: 0.1711 - val_loss: 0.1136\n",
      "Epoch 55/600\n",
      "426/426 [==============================] - 0s 117us/sample - loss: 0.1791 - val_loss: 0.1138\n",
      "Epoch 56/600\n",
      "426/426 [==============================] - 0s 103us/sample - loss: 0.1554 - val_loss: 0.1137\n",
      "Epoch 57/600\n",
      "426/426 [==============================] - 0s 101us/sample - loss: 0.1841 - val_loss: 0.1110\n",
      "Epoch 58/600\n",
      "426/426 [==============================] - 0s 103us/sample - loss: 0.1791 - val_loss: 0.1080\n",
      "Epoch 59/600\n",
      "426/426 [==============================] - 0s 103us/sample - loss: 0.1808 - val_loss: 0.1022\n",
      "Epoch 60/600\n",
      "426/426 [==============================] - 0s 115us/sample - loss: 0.1812 - val_loss: 0.1029\n",
      "Epoch 61/600\n",
      "426/426 [==============================] - 0s 115us/sample - loss: 0.1850 - val_loss: 0.1126\n",
      "Epoch 62/600\n",
      "426/426 [==============================] - 0s 110us/sample - loss: 0.1931 - val_loss: 0.1088\n",
      "Epoch 63/600\n",
      "426/426 [==============================] - 0s 108us/sample - loss: 0.1557 - val_loss: 0.0973\n",
      "Epoch 64/600\n",
      "426/426 [==============================] - 0s 117us/sample - loss: 0.1733 - val_loss: 0.1069\n",
      "Epoch 65/600\n",
      "426/426 [==============================] - 0s 103us/sample - loss: 0.1616 - val_loss: 0.1030\n",
      "Epoch 66/600\n",
      "426/426 [==============================] - 0s 113us/sample - loss: 0.1620 - val_loss: 0.0932\n",
      "Epoch 67/600\n",
      "426/426 [==============================] - 0s 103us/sample - loss: 0.1453 - val_loss: 0.0947\n",
      "Epoch 68/600\n",
      "426/426 [==============================] - 0s 106us/sample - loss: 0.1720 - val_loss: 0.1019\n",
      "Epoch 69/600\n",
      "426/426 [==============================] - 0s 122us/sample - loss: 0.1705 - val_loss: 0.0979\n",
      "Epoch 70/600\n",
      "426/426 [==============================] - 0s 129us/sample - loss: 0.1545 - val_loss: 0.1000\n",
      "Epoch 71/600\n",
      "426/426 [==============================] - 0s 190us/sample - loss: 0.1319 - val_loss: 0.0894\n",
      "Epoch 72/600\n",
      "426/426 [==============================] - 0s 113us/sample - loss: 0.1506 - val_loss: 0.0910\n",
      "Epoch 73/600\n",
      "426/426 [==============================] - 0s 103us/sample - loss: 0.1573 - val_loss: 0.0994\n",
      "Epoch 74/600\n",
      "426/426 [==============================] - 0s 103us/sample - loss: 0.1348 - val_loss: 0.0913\n",
      "Epoch 75/600\n",
      "426/426 [==============================] - 0s 103us/sample - loss: 0.1671 - val_loss: 0.1001\n",
      "Epoch 76/600\n",
      "426/426 [==============================] - 0s 106us/sample - loss: 0.1607 - val_loss: 0.1032\n",
      "Epoch 77/600\n",
      "426/426 [==============================] - 0s 103us/sample - loss: 0.1477 - val_loss: 0.0894\n"
     ]
    },
    {
     "name": "stdout",
     "output_type": "stream",
     "text": [
      "Epoch 78/600\n",
      "426/426 [==============================] - 0s 103us/sample - loss: 0.1411 - val_loss: 0.0869\n",
      "Epoch 79/600\n",
      "426/426 [==============================] - 0s 101us/sample - loss: 0.1346 - val_loss: 0.0952\n",
      "Epoch 80/600\n",
      "426/426 [==============================] - 0s 101us/sample - loss: 0.1409 - val_loss: 0.0893\n",
      "Epoch 81/600\n",
      "426/426 [==============================] - 0s 101us/sample - loss: 0.1416 - val_loss: 0.0891\n",
      "Epoch 82/600\n",
      "426/426 [==============================] - 0s 106us/sample - loss: 0.1582 - val_loss: 0.0992\n",
      "Epoch 83/600\n",
      "426/426 [==============================] - 0s 108us/sample - loss: 0.1423 - val_loss: 0.0851\n",
      "Epoch 84/600\n",
      "426/426 [==============================] - 0s 108us/sample - loss: 0.1427 - val_loss: 0.0947\n",
      "Epoch 85/600\n",
      "426/426 [==============================] - 0s 106us/sample - loss: 0.1154 - val_loss: 0.0929\n",
      "Epoch 86/600\n",
      "426/426 [==============================] - 0s 110us/sample - loss: 0.1199 - val_loss: 0.0843\n",
      "Epoch 87/600\n",
      "426/426 [==============================] - 0s 108us/sample - loss: 0.1259 - val_loss: 0.0791\n",
      "Epoch 88/600\n",
      "426/426 [==============================] - 0s 120us/sample - loss: 0.1478 - val_loss: 0.0849\n",
      "Epoch 89/600\n",
      "426/426 [==============================] - 0s 134us/sample - loss: 0.1462 - val_loss: 0.0841\n",
      "Epoch 90/600\n",
      "426/426 [==============================] - 0s 99us/sample - loss: 0.1401 - val_loss: 0.0820\n",
      "Epoch 91/600\n",
      "426/426 [==============================] - 0s 103us/sample - loss: 0.1344 - val_loss: 0.0852\n",
      "Epoch 92/600\n",
      "426/426 [==============================] - 0s 108us/sample - loss: 0.1133 - val_loss: 0.0806\n",
      "Epoch 93/600\n",
      "426/426 [==============================] - 0s 106us/sample - loss: 0.1104 - val_loss: 0.0930\n",
      "Epoch 94/600\n",
      "426/426 [==============================] - 0s 101us/sample - loss: 0.1309 - val_loss: 0.0896\n",
      "Epoch 95/600\n",
      "426/426 [==============================] - 0s 106us/sample - loss: 0.1308 - val_loss: 0.0847\n",
      "Epoch 96/600\n",
      "426/426 [==============================] - 0s 106us/sample - loss: 0.1105 - val_loss: 0.0883\n",
      "Epoch 97/600\n",
      "426/426 [==============================] - 0s 103us/sample - loss: 0.1209 - val_loss: 0.0875\n",
      "Epoch 98/600\n",
      "426/426 [==============================] - 0s 106us/sample - loss: 0.1236 - val_loss: 0.0879\n",
      "Epoch 99/600\n",
      "426/426 [==============================] - 0s 106us/sample - loss: 0.1141 - val_loss: 0.0899\n",
      "Epoch 100/600\n",
      "426/426 [==============================] - 0s 110us/sample - loss: 0.1207 - val_loss: 0.0811\n",
      "Epoch 101/600\n",
      "426/426 [==============================] - 0s 108us/sample - loss: 0.1141 - val_loss: 0.0773\n",
      "Epoch 102/600\n",
      "426/426 [==============================] - 0s 103us/sample - loss: 0.1084 - val_loss: 0.0818\n",
      "Epoch 103/600\n",
      "426/426 [==============================] - 0s 101us/sample - loss: 0.1032 - val_loss: 0.0933\n",
      "Epoch 104/600\n",
      "426/426 [==============================] - 0s 101us/sample - loss: 0.1115 - val_loss: 0.0839\n",
      "Epoch 105/600\n",
      "426/426 [==============================] - 0s 101us/sample - loss: 0.1027 - val_loss: 0.0844\n",
      "Epoch 106/600\n",
      "426/426 [==============================] - 0s 99us/sample - loss: 0.1073 - val_loss: 0.0805\n",
      "Epoch 107/600\n",
      "426/426 [==============================] - 0s 101us/sample - loss: 0.1207 - val_loss: 0.0856\n",
      "Epoch 108/600\n",
      "426/426 [==============================] - 0s 99us/sample - loss: 0.0995 - val_loss: 0.0880\n",
      "Epoch 109/600\n",
      "426/426 [==============================] - 0s 101us/sample - loss: 0.1134 - val_loss: 0.0832\n",
      "Epoch 110/600\n",
      "426/426 [==============================] - 0s 106us/sample - loss: 0.0965 - val_loss: 0.0910\n",
      "Epoch 111/600\n",
      "426/426 [==============================] - 0s 101us/sample - loss: 0.1112 - val_loss: 0.0908\n",
      "Epoch 112/600\n",
      "426/426 [==============================] - 0s 103us/sample - loss: 0.1067 - val_loss: 0.0807\n",
      "Epoch 113/600\n",
      "426/426 [==============================] - 0s 103us/sample - loss: 0.1000 - val_loss: 0.0844\n",
      "Epoch 114/600\n",
      "426/426 [==============================] - 0s 101us/sample - loss: 0.1061 - val_loss: 0.0769\n",
      "Epoch 115/600\n",
      "426/426 [==============================] - 0s 101us/sample - loss: 0.0997 - val_loss: 0.0862\n",
      "Epoch 116/600\n",
      "426/426 [==============================] - 0s 101us/sample - loss: 0.1214 - val_loss: 0.0787\n",
      "Epoch 117/600\n",
      "426/426 [==============================] - 0s 99us/sample - loss: 0.1076 - val_loss: 0.0818\n",
      "Epoch 118/600\n",
      "426/426 [==============================] - 0s 99us/sample - loss: 0.1167 - val_loss: 0.0842\n",
      "Epoch 119/600\n",
      "426/426 [==============================] - 0s 103us/sample - loss: 0.1246 - val_loss: 0.0869\n",
      "Epoch 120/600\n",
      "426/426 [==============================] - 0s 103us/sample - loss: 0.0937 - val_loss: 0.0862\n",
      "Epoch 121/600\n",
      "426/426 [==============================] - 0s 103us/sample - loss: 0.1049 - val_loss: 0.0871\n",
      "Epoch 122/600\n",
      "426/426 [==============================] - 0s 103us/sample - loss: 0.0912 - val_loss: 0.0831\n",
      "Epoch 123/600\n",
      "426/426 [==============================] - 0s 103us/sample - loss: 0.1217 - val_loss: 0.0809\n",
      "Epoch 124/600\n",
      "426/426 [==============================] - 0s 99us/sample - loss: 0.1198 - val_loss: 0.0987\n",
      "Epoch 125/600\n",
      "426/426 [==============================] - 0s 103us/sample - loss: 0.1169 - val_loss: 0.0928\n",
      "Epoch 126/600\n",
      "426/426 [==============================] - 0s 106us/sample - loss: 0.1270 - val_loss: 0.0902\n",
      "Epoch 127/600\n",
      "426/426 [==============================] - 0s 103us/sample - loss: 0.1031 - val_loss: 0.0914\n",
      "Epoch 128/600\n",
      "426/426 [==============================] - 0s 101us/sample - loss: 0.1037 - val_loss: 0.0862\n",
      "Epoch 129/600\n",
      "426/426 [==============================] - 0s 103us/sample - loss: 0.1022 - val_loss: 0.0947\n",
      "Epoch 130/600\n",
      "426/426 [==============================] - 0s 103us/sample - loss: 0.1121 - val_loss: 0.0914\n",
      "Epoch 131/600\n",
      "426/426 [==============================] - 0s 101us/sample - loss: 0.1023 - val_loss: 0.0883\n",
      "Epoch 132/600\n",
      "426/426 [==============================] - 0s 101us/sample - loss: 0.1301 - val_loss: 0.0860\n",
      "Epoch 133/600\n",
      "426/426 [==============================] - 0s 117us/sample - loss: 0.1054 - val_loss: 0.0829\n",
      "Epoch 134/600\n",
      "426/426 [==============================] - 0s 115us/sample - loss: 0.0844 - val_loss: 0.1033\n",
      "Epoch 135/600\n",
      "426/426 [==============================] - 0s 117us/sample - loss: 0.1107 - val_loss: 0.0860\n",
      "Epoch 136/600\n",
      "426/426 [==============================] - 0s 113us/sample - loss: 0.0937 - val_loss: 0.0868\n",
      "Epoch 137/600\n",
      "426/426 [==============================] - 0s 113us/sample - loss: 0.1205 - val_loss: 0.0974\n",
      "Epoch 138/600\n",
      "426/426 [==============================] - 0s 115us/sample - loss: 0.0928 - val_loss: 0.0818\n",
      "Epoch 139/600\n",
      "426/426 [==============================] - 0s 113us/sample - loss: 0.0950 - val_loss: 0.0802\n",
      "Epoch 00139: early stopping\n"
     ]
    },
    {
     "data": {
      "text/plain": [
       "<tensorflow.python.keras.callbacks.History at 0x22575735388>"
      ]
     },
     "execution_count": 18,
     "metadata": {},
     "output_type": "execute_result"
    }
   ],
   "source": [
    "model.fit(x=X_train, \n",
    "          y=y_train, \n",
    "          epochs=600,\n",
    "          validation_data=(X_test, y_test), verbose=1,\n",
    "          callbacks=[early_stop,board]\n",
    "          )"
   ]
  },
  {
   "cell_type": "markdown",
   "metadata": {},
   "source": [
    "# Running Tensorboard\n"
   ]
  },
  {
   "cell_type": "markdown",
   "metadata": {},
   "source": [
    "## Running through the Command Line\n",
    "\n",
    "**Watch video to see how to run Tensorboard through a command line call.**"
   ]
  },
  {
   "cell_type": "markdown",
   "metadata": {},
   "source": [
    "Tensorboard will run locally in your browser at [http://localhost:6006/](http://localhost:6006/)\n"
   ]
  },
  {
   "cell_type": "code",
   "execution_count": 19,
   "metadata": {},
   "outputs": [
    {
     "name": "stdout",
     "output_type": "stream",
     "text": [
      "logs\\fit\n"
     ]
    }
   ],
   "source": [
    "print(log_directory)"
   ]
  },
  {
   "cell_type": "code",
   "execution_count": 20,
   "metadata": {},
   "outputs": [
    {
     "data": {
      "text/plain": [
       "'C:\\\\Users\\\\Luis\\\\Desktop\\\\Study\\\\Pieran_Data\\\\Pieran_Data_Learning\\\\Deep_Learning'"
      ]
     },
     "execution_count": 20,
     "metadata": {},
     "output_type": "execute_result"
    }
   ],
   "source": [
    "pwd"
   ]
  },
  {
   "cell_type": "markdown",
   "metadata": {},
   "source": [
    "### Use cd at your command line to change directory to the file path reported back by pwd or your current .py file location.\n",
    "### Then run this code at your command line or terminal"
   ]
  },
  {
   "cell_type": "code",
   "execution_count": null,
   "metadata": {},
   "outputs": [],
   "source": [
    "tensorboard --logdir logs\\fit "
   ]
  }
 ],
 "metadata": {
  "kernelspec": {
   "display_name": "Python 3 (ipykernel)",
   "language": "python",
   "name": "python3"
  },
  "language_info": {
   "codemirror_mode": {
    "name": "ipython",
    "version": 3
   },
   "file_extension": ".py",
   "mimetype": "text/x-python",
   "name": "python",
   "nbconvert_exporter": "python",
   "pygments_lexer": "ipython3",
   "version": "3.7.12"
  }
 },
 "nbformat": 4,
 "nbformat_minor": 2
}
